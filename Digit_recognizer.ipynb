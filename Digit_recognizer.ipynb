{
 "cells": [
  {
   "cell_type": "markdown",
   "metadata": {},
   "source": [
    "# Digit recognizer using PyTorch"
   ]
  },
  {
   "cell_type": "markdown",
   "metadata": {},
   "source": [
    "## By Marawan Abdelrahman"
   ]
  },
  {
   "cell_type": "markdown",
   "metadata": {},
   "source": [
    "__Steps__:\n",
    "1. Preparing the dataset\n",
    "2. Train and validate\n",
    "3. Making Prediction\n"
   ]
  },
  {
   "cell_type": "markdown",
   "metadata": {},
   "source": [
    "### 1. Preparing the dataset"
   ]
  },
  {
   "cell_type": "markdown",
   "metadata": {},
   "source": [
    "#### Importing Libraries necessary"
   ]
  },
  {
   "cell_type": "code",
   "execution_count": 1,
   "metadata": {},
   "outputs": [],
   "source": [
    "import torch\n",
    "from torch import nn, optim\n",
    "import torch.nn.functional as F\n",
    "from torchvision import datasets, transforms\n",
    "import pandas as pd\n",
    "import numpy as np\n",
    "from sklearn.model_selection import train_test_split\n",
    "import matplotlib.pyplot as plt\n",
    "from PIL import Image\n"
   ]
  },
  {
   "cell_type": "markdown",
   "metadata": {},
   "source": [
    "#### Importing the digits from csv file"
   ]
  },
  {
   "cell_type": "code",
   "execution_count": 2,
   "metadata": {},
   "outputs": [
    {
     "data": {
      "text/plain": [
       "0    1.0\n",
       "1    0.0\n",
       "2    1.0\n",
       "3    4.0\n",
       "4    0.0\n",
       "Name: label, dtype: float32"
      ]
     },
     "execution_count": 2,
     "metadata": {},
     "output_type": "execute_result"
    }
   ],
   "source": [
    "train = pd.read_csv(\"digit-recognizer/train.csv\", dtype=np.float32)\n",
    "test = pd.read_csv(\"digit-recognizer/test.csv\", dtype=np.float32)\n",
    "order = pd.read_csv(\"digit-recognizer/sample_submission.csv\")\n",
    "train.label.head()"
   ]
  },
  {
   "cell_type": "markdown",
   "metadata": {},
   "source": [
    "#### Splitting between the image and their labels"
   ]
  },
  {
   "cell_type": "code",
   "execution_count": 3,
   "metadata": {},
   "outputs": [],
   "source": [
    "targets_np = train.label.values\n",
    "features_np = train.loc[:, train.columns != 'label'].values/255\n",
    "\n",
    "features_train, features_test, target_train, target_test = train_test_split(features_np, targets_np, test_size=0.2, random_state=42)"
   ]
  },
  {
   "cell_type": "code",
   "execution_count": 4,
   "metadata": {},
   "outputs": [],
   "source": [
    "#convert to tensors\n",
    "featuresTrain = torch.from_numpy(features_train) \n",
    "targetsTrain = torch.from_numpy(target_train).type(torch.LongTensor)"
   ]
  },
  {
   "cell_type": "code",
   "execution_count": 5,
   "metadata": {},
   "outputs": [],
   "source": [
    "#convert to tensors\n",
    "featuresTest = torch.from_numpy(features_test)\n",
    "targetsTest = torch.from_numpy(target_test).type(torch.LongTensor)"
   ]
  },
  {
   "cell_type": "markdown",
   "metadata": {},
   "source": [
    "#### specifing the batch size for train and validation data"
   ]
  },
  {
   "cell_type": "code",
   "execution_count": 6,
   "metadata": {},
   "outputs": [],
   "source": [
    "batch_size = 256\n",
    "\n",
    "train = torch.utils.data.TensorDataset(featuresTrain,targetsTrain)\n",
    "val = torch.utils.data.TensorDataset(featuresTest,targetsTest)\n",
    "\n",
    "trainloaders = torch.utils.data.DataLoader(train, batch_size = batch_size, shuffle = True)\n",
    "valloaders = torch.utils.data.DataLoader(val, batch_size = batch_size, shuffle = True)"
   ]
  },
  {
   "cell_type": "markdown",
   "metadata": {},
   "source": [
    "#### Visualize a column of pixels"
   ]
  },
  {
   "cell_type": "code",
   "execution_count": 7,
   "metadata": {},
   "outputs": [
    {
     "data": {
      "image/png": "[encoded data removed]",
      "text/plain": [
       "<Figure size 432x288 with 1 Axes>"
      ]
     },
     "metadata": {
      "needs_background": "light"
     },
     "output_type": "display_data"
    }
   ],
   "source": [
    "def visualize_image(data, index, pred=False, val=0):\n",
    "    plt.imshow(data[index].reshape(28,28))\n",
    "    plt.axis(\"off\")\n",
    "    plt.title(\"digit\")\n",
    "    plt.show()\n",
    "visualize_image(features_np, 1)"
   ]
  },
  {
   "cell_type": "markdown",
   "metadata": {},
   "source": [
    "### 2. Train and validate"
   ]
  },
  {
   "cell_type": "markdown",
   "metadata": {},
   "source": [
    "#### Creating a DL model of 784 inputs, 10 outputs and 1 hidden layer "
   ]
  },
  {
   "cell_type": "code",
   "execution_count": 8,
   "metadata": {},
   "outputs": [],
   "source": [
    "model = nn.Sequential(nn.Linear(784, 128),\n",
    "                      nn.ReLU(),\n",
    "                      nn.Linear(128, 64),\n",
    "                      nn.ReLU(),\n",
    "                      nn.Linear(64, 10),\n",
    "                     nn.LogSoftmax(dim=1))\n",
    "critaion = nn.NLLLoss() \n",
    "optimizer = optim.Adam(model.parameters(), lr=0.003)\n"
   ]
  },
  {
   "cell_type": "markdown",
   "metadata": {},
   "source": [
    "#### Train the model with training data and vaildate it"
   ]
  },
  {
   "cell_type": "code",
   "execution_count": 9,
   "metadata": {},
   "outputs": [
    {
     "name": "stdout",
     "output_type": "stream",
     "text": [
      "Epoch 1/12.. Train loss: 0.549.. validation loss: 0.292.. validation accuracy: 0.913\n",
      "Epoch 2/12.. Train loss: 0.229.. validation loss: 0.208.. validation accuracy: 0.939\n",
      "Epoch 3/12.. Train loss: 0.173.. validation loss: 0.163.. validation accuracy: 0.952\n",
      "Epoch 4/12.. Train loss: 0.130.. validation loss: 0.150.. validation accuracy: 0.953\n",
      "Epoch 4/12.. Train loss: 0.103.. validation loss: 0.128.. validation accuracy: 0.963\n",
      "Epoch 5/12.. Train loss: 0.083.. validation loss: 0.124.. validation accuracy: 0.964\n",
      "Epoch 6/12.. Train loss: 0.073.. validation loss: 0.123.. validation accuracy: 0.964\n",
      "Epoch 7/12.. Train loss: 0.061.. validation loss: 0.117.. validation accuracy: 0.965\n",
      "Epoch 7/12.. Train loss: 0.050.. validation loss: 0.122.. validation accuracy: 0.964\n",
      "Epoch 8/12.. Train loss: 0.046.. validation loss: 0.114.. validation accuracy: 0.967\n",
      "Epoch 9/12.. Train loss: 0.039.. validation loss: 0.115.. validation accuracy: 0.969\n",
      "Epoch 10/12.. Train loss: 0.038.. validation loss: 0.103.. validation accuracy: 0.970\n",
      "Epoch 10/12.. Train loss: 0.029.. validation loss: 0.114.. validation accuracy: 0.969\n",
      "Epoch 11/12.. Train loss: 0.022.. validation loss: 0.136.. validation accuracy: 0.966\n",
      "Epoch 12/12.. Train loss: 0.026.. validation loss: 0.110.. validation accuracy: 0.971\n"
     ]
    }
   ],
   "source": [
    "epochs = 12\n",
    "steps = 0 \n",
    "i = 0\n",
    "print_every = 100 \n",
    "running_loss = 0\n",
    "\n",
    "\n",
    "for epoch in range(epochs):\n",
    "    for image, label in trainloaders:\n",
    "        steps += 1 \n",
    "        optimizer.zero_grad() \n",
    "        ps = model.forward(image) \n",
    "        loss = critaion(ps, label) \n",
    "        loss.backward() \n",
    "        optimizer.step() \n",
    "        running_loss += loss.item() \n",
    "        if steps % print_every == 0: \n",
    "            test_loss = 0\n",
    "            accu = 0\n",
    "            model.eval() \n",
    "            with torch.no_grad():\n",
    "                model.eval()\n",
    "                for image, label in valloaders:\n",
    "                     \n",
    "                \n",
    "                    lgsoftmx = model.forward(image)\n",
    "                    \n",
    "                    batch_loss = critaion(lgsoftmx,label)\n",
    "                    test_loss += batch_loss.item()\n",
    "                    \n",
    "                    ps = torch.exp(lgsoftmx) \n",
    "                    top_p, top_class = ps.topk(1, dim=1)\n",
    "                    equally = top_class == label.view(*top_class.shape) \n",
    "                    accu += torch.mean(equally.type(torch.FloatTensor)).item()\n",
    "                    \n",
    "            print(f\"Epoch {epoch+1}/{epochs}.. \"\n",
    "                  f\"Train loss: {running_loss/print_every:.3f}.. \" \n",
    "                  f\"validation loss: {test_loss/len(valloaders):.3f}.. \"\n",
    "                  f\"validation accuracy: {accu/len(valloaders):.3f}\") \n",
    "            running_loss = 0\n",
    "            model.train() \n",
    "        "
   ]
  },
  {
   "cell_type": "markdown",
   "metadata": {},
   "source": [
    "#### function for visualizing the outputs of the model and the input digit"
   ]
  },
  {
   "cell_type": "code",
   "execution_count": 10,
   "metadata": {},
   "outputs": [],
   "source": [
    "def view_classify(img, ps):\n",
    "    ps = ps.data.numpy().squeeze()\n",
    "\n",
    "    fig, (ax1, ax2) = plt.subplots(figsize=(6,9), ncols=2)\n",
    "    ax1.imshow(img.resize_(1, 28, 28).numpy().squeeze())\n",
    "    ax1.axis('off')\n",
    "    ax2.barh(np.arange(10), ps)\n",
    "    ax2.set_aspect(0.1)\n",
    "    ax2.set_yticks(np.arange(10))\n",
    "    ax2.set_yticklabels(np.arange(10))\n",
    "    ax2.set_title('Class Probability')\n",
    "    ax2.set_xlim(0, 1.1)\n",
    "\n",
    "    plt.tight_layout()"
   ]
  },
  {
   "cell_type": "markdown",
   "metadata": {},
   "source": [
    "#### A function for inputing the digit in the model and output the values of the prediction"
   ]
  },
  {
   "cell_type": "code",
   "execution_count": 11,
   "metadata": {},
   "outputs": [
    {
     "name": "stdout",
     "output_type": "stream",
     "text": [
      "tensor([[7.7754e-12, 9.9964e-01, 5.7376e-09, 4.0801e-06, 5.8806e-08, 2.9389e-07,\n",
      "         6.3076e-10, 3.5153e-04, 3.0038e-06, 5.9206e-06]])\n"
     ]
    },
    {
     "data": {
      "image/png": "[encoded data removed]",
      "text/plain": [
       "<Figure size 432x648 with 2 Axes>"
      ]
     },
     "metadata": {
      "needs_background": "light"
     },
     "output_type": "display_data"
    }
   ],
   "source": [
    "def make_prediction(data):\n",
    "    images, labels = next(iter(data))\n",
    "\n",
    "    img = images[42].view(1, 784)\n",
    "    with torch.no_grad():\n",
    "        logps = model(img)\n",
    "\n",
    "    ps = torch.exp(logps)\n",
    "    print(ps)\n",
    "    view_classify(img.view(1, 28, 28), ps)\n",
    "make_prediction(valloaders)"
   ]
  },
  {
   "cell_type": "markdown",
   "metadata": {},
   "source": [
    "### 3. Making Prediction"
   ]
  },
  {
   "cell_type": "markdown",
   "metadata": {},
   "source": [
    "#### normalize the pixel values"
   ]
  },
  {
   "cell_type": "code",
   "execution_count": 12,
   "metadata": {},
   "outputs": [],
   "source": [
    "prediction = test.values/255\n",
    "test_t = torch.from_numpy(prediction)"
   ]
  },
  {
   "cell_type": "markdown",
   "metadata": {},
   "source": [
    "#### Adding a fake label to the digit to be used only in dataloader "
   ]
  },
  {
   "cell_type": "code",
   "execution_count": 13,
   "metadata": {},
   "outputs": [],
   "source": [
    "fake_label = np.zeros(prediction.shape)\n",
    "fake_label = torch.from_numpy(fake_label)"
   ]
  },
  {
   "cell_type": "markdown",
   "metadata": {},
   "source": [
    "#### Creating dataloader of digits and fake labels"
   ]
  },
  {
   "cell_type": "code",
   "execution_count": 14,
   "metadata": {},
   "outputs": [],
   "source": [
    "predict_t = torch.utils.data.TensorDataset(test_t, fake_label)\n",
    "\n",
    "predict_loader = torch.utils.data.DataLoader(predict_t, batch_size = batch_size, shuffle = True)"
   ]
  },
  {
   "cell_type": "markdown",
   "metadata": {},
   "source": [
    "#### making prediction  "
   ]
  },
  {
   "cell_type": "code",
   "execution_count": 15,
   "metadata": {},
   "outputs": [
    {
     "name": "stdout",
     "output_type": "stream",
     "text": [
      "tensor([[3.4969e-11, 2.1423e-10, 4.3271e-09, 3.7597e-09, 1.1728e-12, 4.8053e-09,\n",
      "         1.0000e+00, 1.8441e-13, 2.1101e-09, 2.5189e-19]])\n"
     ]
    },
    {
     "data": {
      "image/png": "[encoded data removed]",
      "text/plain": [
       "<Figure size 432x648 with 2 Axes>"
      ]
     },
     "metadata": {
      "needs_background": "light"
     },
     "output_type": "display_data"
    }
   ],
   "source": [
    "make_prediction(predict_loader)\n"
   ]
  },
  {
   "cell_type": "markdown",
   "metadata": {},
   "source": [
    "### Thanks "
   ]
  }
 ],
 "metadata": {
  "kernelspec": {
   "display_name": "Python 3",
   "language": "python",
   "name": "python3"
  },
  "language_info": {
   "codemirror_mode": {
    "name": "ipython",
    "version": 3
   },
   "file_extension": ".py",
   "mimetype": "text/x-python",
   "name": "python",
   "nbconvert_exporter": "python",
   "pygments_lexer": "ipython3",
   "version": "3.8.5"
  }
 },
 "nbformat": 4,
 "nbformat_minor": 4
}
